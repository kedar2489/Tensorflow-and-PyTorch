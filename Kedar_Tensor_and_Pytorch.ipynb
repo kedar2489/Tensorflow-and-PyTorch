{
  "nbformat": 4,
  "nbformat_minor": 0,
  "metadata": {
    "colab": {
      "provenance": []
    },
    "kernelspec": {
      "name": "python3",
      "display_name": "Python 3"
    },
    "language_info": {
      "name": "python"
    }
  },
  "cells": [
    {
      "cell_type": "markdown",
      "source": [
        "Lab 03: TensorFlow vs. PyTorch\n",
        "Train a model on MNIST in both TensorFlow and PyTorch,\n",
        "convert to TFLite and ONNX.\n",
        "Use tf.GradientTape for Tensorflow custom training loop.\n"
      ],
      "metadata": {
        "id": "pG2bdhedp_jR"
      }
    },
    {
      "cell_type": "code",
      "execution_count": 1,
      "metadata": {
        "id": "23ebc05e",
        "colab": {
          "base_uri": "https://localhost:8080/"
        },
        "outputId": "237f3b50-7ff7-4808-891c-1113b1e09791"
      },
      "outputs": [
        {
          "output_type": "stream",
          "name": "stdout",
          "text": [
            "Downloading data from https://storage.googleapis.com/tensorflow/tf-keras-datasets/mnist.npz\n",
            "\u001b[1m11490434/11490434\u001b[0m \u001b[32m━━━━━━━━━━━━━━━━━━━━\u001b[0m\u001b[37m\u001b[0m \u001b[1m0s\u001b[0m 0us/step\n",
            "Epoch 1/5\n",
            "\u001b[1m1875/1875\u001b[0m \u001b[32m━━━━━━━━━━━━━━━━━━━━\u001b[0m\u001b[37m\u001b[0m \u001b[1m13s\u001b[0m 6ms/step - accuracy: 0.8625 - loss: 0.4989\n",
            "Epoch 2/5\n",
            "\u001b[1m1875/1875\u001b[0m \u001b[32m━━━━━━━━━━━━━━━━━━━━\u001b[0m\u001b[37m\u001b[0m \u001b[1m4s\u001b[0m 2ms/step - accuracy: 0.9577 - loss: 0.1500\n",
            "Epoch 3/5\n",
            "\u001b[1m1875/1875\u001b[0m \u001b[32m━━━━━━━━━━━━━━━━━━━━\u001b[0m\u001b[37m\u001b[0m \u001b[1m6s\u001b[0m 3ms/step - accuracy: 0.9695 - loss: 0.1060\n",
            "Epoch 4/5\n",
            "\u001b[1m1875/1875\u001b[0m \u001b[32m━━━━━━━━━━━━━━━━━━━━\u001b[0m\u001b[37m\u001b[0m \u001b[1m4s\u001b[0m 2ms/step - accuracy: 0.9761 - loss: 0.0790\n",
            "Epoch 5/5\n",
            "\u001b[1m1875/1875\u001b[0m \u001b[32m━━━━━━━━━━━━━━━━━━━━\u001b[0m\u001b[37m\u001b[0m \u001b[1m4s\u001b[0m 2ms/step - accuracy: 0.9798 - loss: 0.0688\n",
            "TF Training time: 32.41 seconds\n",
            "\u001b[1m313/313\u001b[0m \u001b[32m━━━━━━━━━━━━━━━━━━━━\u001b[0m\u001b[37m\u001b[0m \u001b[1m1s\u001b[0m 2ms/step - accuracy: 0.9668 - loss: 0.1111\n"
          ]
        },
        {
          "output_type": "execute_result",
          "data": {
            "text/plain": [
              "[0.09589055925607681, 0.9714000225067139]"
            ]
          },
          "metadata": {},
          "execution_count": 1
        }
      ],
      "source": [
        "import tensorflow as tf\n",
        "from tensorflow.keras.datasets import mnist\n",
        "from tensorflow.keras.utils import to_categorical\n",
        "import time\n",
        "\n",
        "(x_train, y_train), (x_test, y_test) = mnist.load_data()\n",
        "x_train = x_train / 255   # Fill in normalization factor\n",
        "x_test = x_test / 255     # Fill in normalization factor\n",
        "y_train = to_categorical(y_train)\n",
        "y_test = to_categorical(y_test)\n",
        "\n",
        "model = tf.keras.Sequential([\n",
        "    tf.keras.layers.Input(shape=(28, 28)),        # Fill input shape\n",
        "    tf.keras.layers.Flatten(),\n",
        "    tf.keras.layers.Dense(64, activation='relu'),  # Fill number of hidden neurons\n",
        "    tf.keras.layers.Dense(10, activation='softmax')  # Fill number of output neurons\n",
        "])\n",
        "\n",
        "model.compile(optimizer='adam',\n",
        "              loss='categorical_crossentropy',       # Fill name of loss function\n",
        "              metrics=['accuracy'])\n",
        "\n",
        "start = time.time()\n",
        "model.fit(x_train, y_train, epochs=5)\n",
        "end = time.time()\n",
        "print(f\"TF Training time: {end-start:.2f} seconds\")       # Output training time\n",
        "model.evaluate(x_test, y_test)"
      ]
    },
    {
      "cell_type": "code",
      "execution_count": 2,
      "metadata": {
        "id": "be6ab50a",
        "colab": {
          "base_uri": "https://localhost:8080/"
        },
        "outputId": "625c7d08-dd53-4932-dfc1-c4d8d3a45232"
      },
      "outputs": [
        {
          "output_type": "stream",
          "name": "stdout",
          "text": [
            "Saved artifact at '/tmp/tmp_v03oj5y'. The following endpoints are available:\n",
            "\n",
            "* Endpoint 'serve'\n",
            "  args_0 (POSITIONAL_ONLY): TensorSpec(shape=(None, 28, 28), dtype=tf.float32, name='keras_tensor')\n",
            "Output Type:\n",
            "  TensorSpec(shape=(None, 10), dtype=tf.float32, name=None)\n",
            "Captures:\n",
            "  139471554401232: TensorSpec(shape=(), dtype=tf.resource, name=None)\n",
            "  139471554406416: TensorSpec(shape=(), dtype=tf.resource, name=None)\n",
            "  139471554406608: TensorSpec(shape=(), dtype=tf.resource, name=None)\n",
            "  139471554406800: TensorSpec(shape=(), dtype=tf.resource, name=None)\n"
          ]
        }
      ],
      "source": [
        "converter = tf.lite.TFLiteConverter.from_keras_model(model)\n",
        "tflite_model = converter.convert()\n",
        "\n",
        "with open(\"model.tflite\", \"wb\") as f:\n",
        "    f.write(tflite_model)"
      ]
    },
    {
      "cell_type": "markdown",
      "source": [
        "Pytorch Implementation"
      ],
      "metadata": {
        "id": "Z5e32fXwu3dZ"
      }
    },
    {
      "cell_type": "code",
      "execution_count": 3,
      "metadata": {
        "id": "623dfb49",
        "colab": {
          "base_uri": "https://localhost:8080/"
        },
        "outputId": "226ae329-3007-49eb-ace1-4f066ff64699"
      },
      "outputs": [
        {
          "output_type": "stream",
          "name": "stderr",
          "text": [
            "100%|██████████| 9.91M/9.91M [00:00<00:00, 94.2MB/s]\n",
            "100%|██████████| 28.9k/28.9k [00:00<00:00, 44.6MB/s]\n",
            "100%|██████████| 1.65M/1.65M [00:00<00:00, 62.1MB/s]\n",
            "100%|██████████| 4.54k/4.54k [00:00<00:00, 4.15MB/s]\n"
          ]
        },
        {
          "output_type": "stream",
          "name": "stdout",
          "text": [
            "PyTorch Training time: 56.00 seconds\n",
            "Test accuracy: 0.9676\n"
          ]
        }
      ],
      "source": [
        "import torch\n",
        "import torch.nn as nn\n",
        "import torch.nn.functional as F\n",
        "import torch.optim as optim\n",
        "from torchvision import datasets, transforms\n",
        "from torch.utils.data import DataLoader\n",
        "\n",
        "transform = transforms.Compose([transforms.ToTensor(), transforms.Lambda(lambda x: x.view(-1))])\n",
        "train_loader = DataLoader(datasets.MNIST(root='./data', train=True, transform=transform, download=True), batch_size=32)\n",
        "test_loader = DataLoader(datasets.MNIST(root='./data', train=False, transform=transform, download=True), batch_size=1000)\n",
        "\n",
        "class Net(nn.Module):\n",
        "    def __init__(self):\n",
        "        super(Net, self).__init__()\n",
        "        self.fc1 = nn.Linear(784, 64)    # Fill correct input and output size\n",
        "        self.fc2 = nn.Linear(64,10)    # Fill correct input and output size\n",
        "    def forward(self, x):\n",
        "        x = F.relu(self.fc1(x))    # Fill correct layer\n",
        "        return self.fc2(x)    # Fill correct layer\n",
        "\n",
        "model = Net()\n",
        "optimizer = optim.Adam(model.parameters())\n",
        "loss_fn = nn.CrossEntropyLoss()\n",
        "\n",
        "start = time.time()\n",
        "for epoch in range(5):\n",
        "    for x, y in train_loader:\n",
        "        optimizer.zero_grad()\n",
        "        pred = model(x)\n",
        "        loss = loss_fn(pred, y)\n",
        "        loss.backward()\n",
        "        optimizer.step()\n",
        "end = time.time()\n",
        "print(f\"PyTorch Training time: {end - start:.2f} seconds\")\n",
        "\n",
        "model.eval()\n",
        "correct = 0\n",
        "with torch.no_grad():\n",
        "    for x, y in test_loader:\n",
        "        output = model(x)\n",
        "        pred = output.argmax(1)\n",
        "        correct += (pred == y).sum().item()\n",
        "print(f\"Test accuracy: {correct / len(test_loader.dataset):.4f}\")"
      ]
    },
    {
      "cell_type": "code",
      "source": [
        "# Install ONNX\n",
        "!pip install onnx"
      ],
      "metadata": {
        "colab": {
          "base_uri": "https://localhost:8080/"
        },
        "id": "cmBSMUPMrBfm",
        "outputId": "dad21c01-7605-4bb1-ab12-8d7e8b215f62"
      },
      "execution_count": 4,
      "outputs": [
        {
          "output_type": "stream",
          "name": "stdout",
          "text": [
            "Collecting onnx\n",
            "  Downloading onnx-1.18.0-cp311-cp311-manylinux_2_17_x86_64.manylinux2014_x86_64.whl.metadata (6.9 kB)\n",
            "Requirement already satisfied: numpy>=1.22 in /usr/local/lib/python3.11/dist-packages (from onnx) (2.0.2)\n",
            "Requirement already satisfied: protobuf>=4.25.1 in /usr/local/lib/python3.11/dist-packages (from onnx) (5.29.5)\n",
            "Requirement already satisfied: typing_extensions>=4.7.1 in /usr/local/lib/python3.11/dist-packages (from onnx) (4.14.0)\n",
            "Downloading onnx-1.18.0-cp311-cp311-manylinux_2_17_x86_64.manylinux2014_x86_64.whl (17.6 MB)\n",
            "\u001b[2K   \u001b[90m━━━━━━━━━━━━━━━━━━━━━━━━━━━━━━━━━━━━━━━━\u001b[0m \u001b[32m17.6/17.6 MB\u001b[0m \u001b[31m97.1 MB/s\u001b[0m eta \u001b[36m0:00:00\u001b[0m\n",
            "\u001b[?25hInstalling collected packages: onnx\n",
            "Successfully installed onnx-1.18.0\n"
          ]
        }
      ]
    },
    {
      "cell_type": "code",
      "source": [
        "dummy_input = torch.randn(1, 784)\n",
        "torch.onnx.export(model, dummy_input, \"model.onnx\",\n",
        "                  input_names=[\"input\"], output_names=[\"output\"])"
      ],
      "metadata": {
        "id": "BE70iC7FrEgu"
      },
      "execution_count": 5,
      "outputs": []
    },
    {
      "cell_type": "markdown",
      "source": [
        "TensorFlow custom training loop using tf.GradientTape"
      ],
      "metadata": {
        "id": "5oW-dv5ArUt3"
      }
    },
    {
      "cell_type": "code",
      "source": [
        "import tensorflow as tf\n",
        "from tensorflow.keras.datasets import mnist\n",
        "from tensorflow.keras.utils import to_categorical\n",
        "import time\n",
        "\n",
        "# Load and preprocess data\n",
        "(x_train, y_train), (x_test, y_test) = mnist.load_data()\n",
        "x_train = x_train / 255   # Fill in normalization factor\n",
        "x_test = x_test / 255  # Fill in normalization factor\n",
        "y_train = to_categorical(y_train)\n",
        "y_test = to_categorical(y_test)\n",
        "\n",
        "# Prepare datasets\n",
        "batch_size = 32        # Fill same batch size as in first TF example\n",
        "train_dataset = tf.data.Dataset.from_tensor_slices((x_train, y_train)).shuffle(10000).batch(batch_size)\n",
        "test_dataset = tf.data.Dataset.from_tensor_slices((x_test, y_test)).batch(batch_size)\n",
        "\n",
        "# Define model\n",
        "model = tf.keras.Sequential([\n",
        "    tf.keras.layers.Input(shape=(28, 28)),    # Fill size\n",
        "    tf.keras.layers.Flatten(),\n",
        "    tf.keras.layers.Dense(64, activation='relu'),    # Fill number of neurons and activation\n",
        "    tf.keras.layers.Dense(10, activation='softmax')     # Fill number of neurons and activation\n",
        "])\n",
        "\n",
        "# Define loss, optimizer, and metrics\n",
        "loss_fn = tf.keras.losses.CategoricalCrossentropy()\n",
        "optimizer = tf.keras.optimizers.Adam()\n",
        "train_acc_metric = tf.keras.metrics.CategoricalAccuracy()\n",
        "test_acc_metric = tf.keras.metrics.CategoricalAccuracy()\n",
        "\n",
        "# Training loop\n",
        "epochs = 5\n",
        "start = time.time()\n",
        "for epoch in range(epochs):\n",
        "    print(f\"\\nEpoch {epoch + 1}/{epochs}\")\n",
        "    for step, (x_batch, y_batch) in enumerate(train_dataset):\n",
        "        with tf.GradientTape() as tape:\n",
        "            logits = model(x_batch, training=True)\n",
        "            loss = loss_fn(y_batch, logits)\n",
        "        grads = tape.gradient(loss, model.trainable_variables)\n",
        "        optimizer.apply_gradients(zip(grads, model.trainable_variables))\n",
        "        train_acc_metric.update_state(y_batch, logits)\n",
        "\n",
        "        if step % 100 == 0:\n",
        "            print(f\"Step {step}, Loss: {loss.numpy():.4f}, Accuracy: {train_acc_metric.result().numpy():.4f}\")\n",
        "\n",
        "    print(f\"Training Accuracy for epoch {epoch+1}: {train_acc_metric.result().numpy():.4f}\")\n",
        "    train_acc_metric.reset_state()\n",
        "end = time.time()\n",
        "print(f\"\\nTF Training time: {end - start:.2f} seconds\")\n",
        "\n",
        "# Evaluation loop\n",
        "for x_batch, y_batch in test_dataset:\n",
        "    test_logits = model(x_batch, training=False)\n",
        "    test_acc_metric.update_state(y_batch, test_logits)\n",
        "\n",
        "print(f\"Test Accuracy: {test_acc_metric.result().numpy():.4f}\")\n"
      ],
      "metadata": {
        "id": "KH-sDlHq_Gdw",
        "colab": {
          "base_uri": "https://localhost:8080/"
        },
        "outputId": "02033e80-4bdf-4f32-a58d-3a4e00b50a59"
      },
      "execution_count": 8,
      "outputs": [
        {
          "output_type": "stream",
          "name": "stdout",
          "text": [
            "\n",
            "Epoch 1/5\n",
            "Step 0, Loss: 2.3835, Accuracy: 0.0938\n",
            "Step 100, Loss: 0.3899, Accuracy: 0.7413\n",
            "Step 200, Loss: 0.2980, Accuracy: 0.8074\n",
            "Step 300, Loss: 0.5348, Accuracy: 0.8354\n",
            "Step 400, Loss: 0.1371, Accuracy: 0.8529\n",
            "Step 500, Loss: 0.2594, Accuracy: 0.8665\n",
            "Step 600, Loss: 0.2834, Accuracy: 0.8760\n",
            "Step 700, Loss: 0.2687, Accuracy: 0.8823\n",
            "Step 800, Loss: 0.2722, Accuracy: 0.8881\n",
            "Step 900, Loss: 0.4022, Accuracy: 0.8932\n",
            "Step 1000, Loss: 0.3991, Accuracy: 0.8970\n",
            "Step 1100, Loss: 0.3225, Accuracy: 0.9003\n",
            "Step 1200, Loss: 0.2349, Accuracy: 0.9033\n",
            "Step 1300, Loss: 0.0681, Accuracy: 0.9060\n",
            "Step 1400, Loss: 0.1249, Accuracy: 0.9085\n",
            "Step 1500, Loss: 0.1580, Accuracy: 0.9108\n",
            "Step 1600, Loss: 0.1694, Accuracy: 0.9130\n",
            "Step 1700, Loss: 0.1564, Accuracy: 0.9149\n",
            "Step 1800, Loss: 0.0679, Accuracy: 0.9170\n",
            "Training Accuracy for epoch 1: 0.9182\n",
            "\n",
            "Epoch 2/5\n",
            "Step 0, Loss: 0.0670, Accuracy: 1.0000\n",
            "Step 100, Loss: 0.2385, Accuracy: 0.9486\n",
            "Step 200, Loss: 0.1150, Accuracy: 0.9527\n",
            "Step 300, Loss: 0.2418, Accuracy: 0.9536\n",
            "Step 400, Loss: 0.3803, Accuracy: 0.9525\n",
            "Step 500, Loss: 0.1891, Accuracy: 0.9523\n",
            "Step 600, Loss: 0.3387, Accuracy: 0.9531\n",
            "Step 700, Loss: 0.1773, Accuracy: 0.9537\n",
            "Step 800, Loss: 0.2042, Accuracy: 0.9541\n",
            "Step 900, Loss: 0.2596, Accuracy: 0.9549\n",
            "Step 1000, Loss: 0.0773, Accuracy: 0.9553\n",
            "Step 1100, Loss: 0.0408, Accuracy: 0.9558\n",
            "Step 1200, Loss: 0.1370, Accuracy: 0.9558\n",
            "Step 1300, Loss: 0.1360, Accuracy: 0.9563\n",
            "Step 1400, Loss: 0.2746, Accuracy: 0.9565\n",
            "Step 1500, Loss: 0.1139, Accuracy: 0.9569\n",
            "Step 1600, Loss: 0.0789, Accuracy: 0.9574\n",
            "Step 1700, Loss: 0.0509, Accuracy: 0.9580\n",
            "Step 1800, Loss: 0.0535, Accuracy: 0.9584\n",
            "Training Accuracy for epoch 2: 0.9586\n",
            "\n",
            "Epoch 3/5\n",
            "Step 0, Loss: 0.0161, Accuracy: 1.0000\n",
            "Step 100, Loss: 0.0625, Accuracy: 0.9688\n",
            "Step 200, Loss: 0.1080, Accuracy: 0.9666\n",
            "Step 300, Loss: 0.0623, Accuracy: 0.9662\n",
            "Step 400, Loss: 0.0485, Accuracy: 0.9667\n",
            "Step 500, Loss: 0.0357, Accuracy: 0.9681\n",
            "Step 600, Loss: 0.0448, Accuracy: 0.9676\n",
            "Step 700, Loss: 0.0642, Accuracy: 0.9677\n",
            "Step 800, Loss: 0.2693, Accuracy: 0.9681\n",
            "Step 900, Loss: 0.0716, Accuracy: 0.9677\n",
            "Step 1000, Loss: 0.0299, Accuracy: 0.9680\n",
            "Step 1100, Loss: 0.2390, Accuracy: 0.9680\n",
            "Step 1200, Loss: 0.0688, Accuracy: 0.9682\n",
            "Step 1300, Loss: 0.1063, Accuracy: 0.9679\n",
            "Step 1400, Loss: 0.0519, Accuracy: 0.9677\n",
            "Step 1500, Loss: 0.0246, Accuracy: 0.9677\n",
            "Step 1600, Loss: 0.1370, Accuracy: 0.9678\n",
            "Step 1700, Loss: 0.0073, Accuracy: 0.9683\n",
            "Step 1800, Loss: 0.0660, Accuracy: 0.9688\n",
            "Training Accuracy for epoch 3: 0.9690\n",
            "\n",
            "Epoch 4/5\n",
            "Step 0, Loss: 0.0746, Accuracy: 0.9688\n",
            "Step 100, Loss: 0.0668, Accuracy: 0.9731\n",
            "Step 200, Loss: 0.0175, Accuracy: 0.9757\n",
            "Step 300, Loss: 0.0261, Accuracy: 0.9762\n",
            "Step 400, Loss: 0.3555, Accuracy: 0.9747\n",
            "Step 500, Loss: 0.0941, Accuracy: 0.9739\n",
            "Step 600, Loss: 0.1478, Accuracy: 0.9746\n",
            "Step 700, Loss: 0.0246, Accuracy: 0.9742\n",
            "Step 800, Loss: 0.1707, Accuracy: 0.9738\n",
            "Step 900, Loss: 0.0766, Accuracy: 0.9742\n",
            "Step 1000, Loss: 0.0937, Accuracy: 0.9740\n",
            "Step 1100, Loss: 0.1129, Accuracy: 0.9737\n",
            "Step 1200, Loss: 0.0257, Accuracy: 0.9739\n",
            "Step 1300, Loss: 0.0459, Accuracy: 0.9742\n",
            "Step 1400, Loss: 0.0636, Accuracy: 0.9745\n",
            "Step 1500, Loss: 0.1089, Accuracy: 0.9742\n",
            "Step 1600, Loss: 0.0348, Accuracy: 0.9743\n",
            "Step 1700, Loss: 0.0480, Accuracy: 0.9746\n",
            "Step 1800, Loss: 0.0388, Accuracy: 0.9746\n",
            "Training Accuracy for epoch 4: 0.9746\n",
            "\n",
            "Epoch 5/5\n",
            "Step 0, Loss: 0.0463, Accuracy: 0.9688\n",
            "Step 100, Loss: 0.0083, Accuracy: 0.9796\n",
            "Step 200, Loss: 0.0131, Accuracy: 0.9807\n",
            "Step 300, Loss: 0.1270, Accuracy: 0.9801\n",
            "Step 400, Loss: 0.0695, Accuracy: 0.9806\n",
            "Step 500, Loss: 0.1073, Accuracy: 0.9809\n",
            "Step 600, Loss: 0.0502, Accuracy: 0.9806\n",
            "Step 700, Loss: 0.2227, Accuracy: 0.9801\n",
            "Step 800, Loss: 0.0850, Accuracy: 0.9805\n",
            "Step 900, Loss: 0.2244, Accuracy: 0.9801\n",
            "Step 1000, Loss: 0.0094, Accuracy: 0.9804\n",
            "Step 1100, Loss: 0.1887, Accuracy: 0.9801\n",
            "Step 1200, Loss: 0.0598, Accuracy: 0.9798\n",
            "Step 1300, Loss: 0.0085, Accuracy: 0.9798\n",
            "Step 1400, Loss: 0.0831, Accuracy: 0.9796\n",
            "Step 1500, Loss: 0.0179, Accuracy: 0.9795\n",
            "Step 1600, Loss: 0.0056, Accuracy: 0.9795\n",
            "Step 1700, Loss: 0.0563, Accuracy: 0.9796\n",
            "Step 1800, Loss: 0.3843, Accuracy: 0.9797\n",
            "Training Accuracy for epoch 5: 0.9796\n",
            "\n",
            "TF Training time: 374.21 seconds\n",
            "Test Accuracy: 0.9693\n"
          ]
        }
      ]
    },
    {
      "cell_type": "markdown",
      "source": [
        "\n",
        "Performance Otimization with Graph Execution using @tf.function"
      ],
      "metadata": {
        "id": "uYwmS_6ArQw9"
      }
    },
    {
      "cell_type": "code",
      "source": [
        "import tensorflow as tf\n",
        "from tensorflow.keras.datasets import mnist\n",
        "from tensorflow.keras.utils import to_categorical\n",
        "import time\n",
        "\n",
        "# Load and preprocess data\n",
        "(x_train, y_train), (x_test, y_test) = mnist.load_data()\n",
        "x_train = x_train / 255   # Fill in normalization factor\n",
        "x_test = x_test / 255   # Fill in normalization factor\n",
        "y_train = to_categorical(y_train, num_classes=10)\n",
        "y_test = to_categorical(y_test, num_classes=10)\n",
        "\n",
        "# Prepare datasets\n",
        "batch_size = 32\n",
        "train_dataset = tf.data.Dataset.from_tensor_slices((x_train, y_train)).shuffle(10000).batch(batch_size)\n",
        "test_dataset = tf.data.Dataset.from_tensor_slices((x_test, y_test)).batch(batch_size)\n",
        "\n",
        "# Define model\n",
        "model = tf.keras.Sequential([\n",
        "    tf.keras.layers.Input(shape=(28, 28)),    # Fill size\n",
        "    tf.keras.layers.Flatten(),\n",
        "    tf.keras.layers.Dense(64, activation='relu'),    # Fill number of neurons and activation\n",
        "    tf.keras.layers.Dense(10, activation='softmax')     # Fill number of neurons and activation\n",
        "])\n",
        "\n",
        "# Define loss, optimizer, and metrics\n",
        "loss_fn = tf.keras.losses.CategoricalCrossentropy()\n",
        "optimizer = tf.keras.optimizers.Adam()\n",
        "train_acc_metric = tf.keras.metrics.CategoricalAccuracy()\n",
        "test_acc_metric = tf.keras.metrics.CategoricalAccuracy()\n",
        "\n",
        "@tf.function  # compile the function into a graph\n",
        "def train_step(x_batch, y_batch):\n",
        "    with tf.GradientTape() as tape:\n",
        "        logits = model(x_batch, training=True)\n",
        "        loss = loss_fn(y_batch, logits)\n",
        "    grads = tape.gradient(loss, model.trainable_variables)\n",
        "    optimizer.apply_gradients(zip(grads, model.trainable_variables))\n",
        "    train_acc_metric.update_state(y_batch, logits)\n",
        "    return loss\n",
        "\n",
        "# Training loop\n",
        "epochs = 5\n",
        "start = time.time()\n",
        "for epoch in range(epochs):\n",
        "    print(f\"\\nEpoch {epoch + 1}/{epochs}\")\n",
        "    for step, (x_batch, y_batch) in enumerate(train_dataset):\n",
        "        loss = train_step(x_batch, y_batch)\n",
        "\n",
        "        if step % 100 == 0:\n",
        "            print(f\"Step {step}, Loss: {loss.numpy():.4f}, Accuracy: {train_acc_metric.result().numpy():.4f}\")\n",
        "\n",
        "    print(f\"Training Accuracy for epoch {epoch+1}: {train_acc_metric.result().numpy():.4f}\")\n",
        "    train_acc_metric.reset_state()\n",
        "end = time.time()\n",
        "print(f\"\\nTF Training time: {end - start:.2f} seconds\")\n",
        "\n",
        "# Evaluation loop\n",
        "for x_batch, y_batch in test_dataset:\n",
        "    test_logits = model(x_batch, training=False)\n",
        "    test_acc_metric.update_state(y_batch, test_logits)\n",
        "\n",
        "print(f\"Test Accuracy: {test_acc_metric.result().numpy():.4f}\")\n"
      ],
      "metadata": {
        "id": "Jmu_hciK_qle"
      },
      "execution_count": null,
      "outputs": []
    }
  ]
}